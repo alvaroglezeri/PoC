{
 "cells": [
  {
   "cell_type": "markdown",
   "metadata": {},
   "source": [
    "# Installation\n",
    "\n",
    "SoundLight is written in Python, but it has to be run in a Linux or Mac distribution due to _NATTEN_ builds not being available for Windows systems. If desired to run in Windows, follow this steps:\n",
    "1. Install `wsl`.\n",
    "1. Install `ffmpeg`: `sudo apt install ffmpeg`.\n",
    "1. Run `sudo pip install -r requirements.txt`.\n",
    "1. Run `pip install --upgrade setuptools wheel`\n",
    "1. Install NATTEN:\n",
    "    - If running on a GPU, use `sudo pip install natten==0.17.1+torch240cu124 -f https://shi-labs.com/natten/wheels`, with `cu124` corresponding to your CUDA version. See [Shi-Labs.com](https://www.shi-labs.com/natten/) for more info.\n",
    "    - If running on a CPU, use `pip install natten==0.17.1+torch240cpu -f https://shi-labs.com/natten/wheels`.\n",
    "1. Install MADMOM with admin privileges: `sudo pip install madmom`\n",
    "1. Install All-In-One: `sudo pip install allin1`"
   ]
  },
  {
   "cell_type": "markdown",
   "metadata": {},
   "source": [
    "# Requirements\n",
    "- Python 3.10\n",
    "\n",
    "# Installation\n",
    "1. Install `wsl`.\n",
    "1. Install `ffmpeg`: `sudo apt install ffmpeg`.\n",
    "1. Install Python 3.12 Developer Tools: `sudo apt install python3-dev`.\n",
    "1. Run `pip install -r requirements_1.txt --upgrade`.\n",
    "1. Run `pip install -r requirements_2.txt --upgrade`.\n",
    "1. Install NATTEN:\n",
    "    - If running on a GPU, use `sudo pip install natten==0.17.1+torch240cu124 -f https://shi-labs.com/natten/wheels`, with `cu124` corresponding to your CUDA version. See [Shi-Labs.com](https://www.shi-labs.com/natten/) for more info.\n",
    "    - If running on a CPU, use `pip install natten==0.17.1+torch240cpu -f https://shi-labs.com/natten/wheels`.\n",
    "1. Run `pip install git+https://github.com/CPJKU/madmom`."
   ]
  },
  {
   "cell_type": "markdown",
   "metadata": {},
   "source": []
  }
 ],
 "metadata": {
  "language_info": {
   "name": "python"
  }
 },
 "nbformat": 4,
 "nbformat_minor": 2
}
