{
 "cells": [
  {
   "cell_type": "markdown",
   "metadata": {},
   "source": [
    "# Installation\n",
    "\n",
    "SoundLight is written in Python, but it has to be run in a Linux or Mac distribution due to _NATTEN_ builds not being available for Windows systems. If desired to run in Windows, follow this steps:\n",
    "1. Install `wsl`.\n",
    "2. Run `pip install -r requirements.txt`."
   ]
  },
  {
   "cell_type": "markdown",
   "metadata": {},
   "source": []
  }
 ],
 "metadata": {
  "language_info": {
   "name": "python"
  }
 },
 "nbformat": 4,
 "nbformat_minor": 2
}
